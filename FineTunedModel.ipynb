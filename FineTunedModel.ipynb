{
 "cells": [
  {
   "cell_type": "markdown",
   "id": "bbf0d685-0152-430b-a3ac-fe2972124c5e",
   "metadata": {},
   "source": [
    "# TIBCO BE PoC\n",
    "This demonstrates how to use Assistant API to generate BE rules.\n",
    "\n",
    "## Setup\n",
    "First install openai if it has not been done already, i.e.,\n",
    "```\n",
    "!pip install openai\n",
    "```\n",
    "\n",
    "Second, create an API key for the project in the OpenAI playground, and then define env variable and restart the notebook, i.e.,\n",
    "```\n",
    "export OPENAI_API_KEY=\"sk-proj-...\"\n",
    "jupyter notebook\n",
    "```\n",
    "\n",
    "Load the API key and relevant Python libaries."
   ]
  },
  {
   "cell_type": "code",
   "execution_count": 12,
   "id": "a8289201-24d3-4fe1-8ce5-0b020bee12a9",
   "metadata": {},
   "outputs": [],
   "source": [
    "import os\n",
    "from openai import OpenAI\n",
    "\n",
    "client = OpenAI(\n",
    "    # This is the default and can be omitted\n",
    "    api_key=os.environ.get(\"OPENAI_API_KEY\"),\n",
    ")"
   ]
  },
  {
   "cell_type": "markdown",
   "id": "e39afd91-4337-4a04-9ebc-1ccc53edfcd8",
   "metadata": {},
   "source": [
    "## Upload BE Documentation of Standard Functions\n",
    "OpenAI LLM can search files in a vector store for documentations required when processing user messages.  We use this mechanism of [embeddings](https://platform.openai.com/docs/guides/embeddings) to provide documentations of BE catalog functions.\n",
    "\n",
    "First, construct a JSON file that contains descriptions of all BE catalog functions used by the AI assistant, e.g., \n",
    "```\n",
    "[\n",
    "    {\n",
    "        \"Function\": \"Log.getLogger()\",\n",
    "        \"Signature\": \"Object getLogger (String loggerName)\",\n",
    "        \"Domain\": \"ACTION, CONDITION, QUERY, BUI\",\n",
    "        \"Description\": \"Get a logger to be used inside a rule/rulefunction name.\",\n",
    "        \"Parameters\": [\n",
    "            {\n",
    "                \"name\": \"loggerName\",\n",
    "                \"type\": \"String\",\n",
    "                \"description\": \"Name of the Logger to get. Use the project path of the current rule or rulefunction.\"\n",
    "            }\n",
    "        ],\n",
    "        \"Returns\": {\n",
    "            \"Type\": \"Object\"\n",
    "        },\n",
    "        \"Cautions\": \"none\",\n",
    "        \"Example\": \"Object logger = Log.getLogger(\\\"Rules.VerifyCreditRF\\\");\"\n",
    "    },\n",
    "]\n",
    "```\n",
    "We'll upload this file to a vector store next.\n",
    "\n",
    "Check if the target vector store exists already:"
   ]
  },
  {
   "cell_type": "code",
   "execution_count": null,
   "id": "ea1fc404-dbf0-4b38-aa82-babfb4bd93c4",
   "metadata": {},
   "outputs": [],
   "source": [
    "# fetch current vector stores\n",
    "curr_stores = client.beta.vector_stores.list()\n",
    "vector_store = None\n",
    "for x in curr_stores.data:\n",
    "  print(x.name, x.file_counts)\n",
    "  if x.name == \"BE Assistant Store\":\n",
    "    vector_store = x\n",
    "if vector_store is not None:\n",
    "  print(vector_store.name)"
   ]
  },
  {
   "cell_type": "markdown",
   "id": "cac53810-4f39-44c5-8a21-a75ad1efa384",
   "metadata": {},
   "source": [
    "If the store does not exist, we create a vector store, and upload the documentation file into the store."
   ]
  },
  {
   "cell_type": "code",
   "execution_count": null,
   "id": "bf620e76-c6b9-40c7-a214-af9b856c692a",
   "metadata": {},
   "outputs": [],
   "source": [
    "if vector_store is None:\n",
    "  # Create a vector store for BE docs\n",
    "  vector_store = client.beta.vector_stores.create(name=\"BE Assistant Store\")\n",
    "\n",
    "  # Ready the files for upload to OpenAI\n",
    "  file_paths = [\"Standard.json\", \"CEP.json\", \"RDBMS.json\"]\n",
    "  file_streams = [open(path, \"rb\") for path in file_paths]\n",
    " \n",
    "  # Use the upload and poll SDK helper to upload the files, add them to the vector store,\n",
    "  # and poll the status of the file batch for completion.\n",
    "  file_batch = client.beta.vector_stores.file_batches.upload_and_poll(\n",
    "    vector_store_id=vector_store.id, files=file_streams\n",
    "  )\n",
    " \n",
    "  # You can print the status and the file counts of the batch to see the result of this operation.\n",
    "  print(file_batch.status)\n",
    "  print(file_batch.file_counts)"
   ]
  },
  {
   "cell_type": "markdown",
   "id": "4491031a-e536-42a1-b35e-53925103e2e7",
   "metadata": {},
   "source": [
    "## Create an AI Assistant\n",
    "We can then build an AI assistant for writing BE rules and functions.\n",
    "\n",
    "We first specify an overview for the syntax of BE rules and functions, and a few code examples, and then use the instruction to create an assistant, and attach the previously created vector store containing BE documentation files."
   ]
  },
  {
   "cell_type": "code",
   "execution_count": 21,
   "id": "cd0bcab0-5c22-4707-b338-7360d9d5cdb6",
   "metadata": {},
   "outputs": [],
   "source": [
    "# Instructions for BE Assistant\n",
    "code_instruction=\"\"\"\n",
    "You are an assistant.  You write TIBCO BE rules and functions according to user requests.\n",
    "\n",
    "A valid TIBCO BE function must not violate any of the following requirements:\n",
    "\n",
    "A function must include a curly braces block of `attribute` that specifies the setting of `validity`.\n",
    "A function must include a curly braces block of `scope` that lists all input variables that the function may read and update.\n",
    "A function must include a block of `body` that is the code for activities required by user.\n",
    "\n",
    "Functions may include calls to BE library functions.  You may lookup definitions of BE library functions via fine-tuning or embedding docs.\n",
    "\n",
    "Example of a BE function for pre-processing an event of type SubmitOrder:\n",
    "```\n",
    "/**\n",
    " * @description \n",
    " * @author AI Assistant\n",
    " */\n",
    "void rulefunction RuleFunctions.onSubmitOrder {\n",
    "\tattribute {\n",
    "\t\tvalidity = ACTION;\n",
    "\t}\n",
    "\tscope {\n",
    "\t\tEvents.SubmitOrder evt;\n",
    "\t}\n",
    "\tbody {\n",
    "\t\tObject logger = Log.getLogger(\"RuleFunctions.onSubmitOrder\");\n",
    "\t\t\n",
    "\t\tConcepts.ShoppingCart cart = Instance.getByExtIdByUri(RuleFunctions.extIdPrefix(\"ShoppingCart\")+evt.user, \"/Concepts/ShoppingCart\");\n",
    "\t\tif (cart == null) {\n",
    "\t\t\tLog.log(logger, \"info\", \"Shopping cart of %s does not exist\", evt.user);\n",
    "\t\t\t// reply 404 Shopping cart not found\n",
    "\t\t\tEvent.replyEvent(evt, Events.HTTPStatus.HTTPStatus(null, null, \"404\"));\n",
    "\t\t\tEvent.consumeEvent(evt);\n",
    "\t\t\treturn;\n",
    "\t\t}\n",
    "\t\t\n",
    "\t\tif (cart.items@length == 0) {\n",
    "\t\t\tLog.log(logger, \"info\", \"Shopping cart of %s is empty\", evt.user);\n",
    "\t\t\t// reply 400 Shopping cart is empty\n",
    "\t\t\tEvent.replyEvent(evt, Events.HTTPStatus.HTTPStatus(null, null, \"400\"));\n",
    "\t\t\tEvent.consumeEvent(evt);\n",
    "\t\t\treturn;\n",
    "\t\t}\n",
    "\t\tLog.log(logger, \"info\", \"Creating new order for user %s\", evt.user);\n",
    "\t}\n",
    "}\n",
    "```\n",
    "\n",
    "To load a concept from cache, you can call BE library functions in the package of `Cluster.DataGrid`, e.g.,\n",
    "```\n",
    "    Concepts.ShoppingCart cart = Cluster.DataGrid.CacheLoadConceptById(oid, true);\n",
    "```\n",
    "\n",
    "To get a cluster-wide lock, you can also call BE libary function in the package of `Cluster.DataGrid`, e.g.,\n",
    "```\n",
    "    boolean lockAcquired = Cluster.DataGrid.Lock(key, 500, false);\n",
    "```\n",
    "\n",
    "The following example constructs a JSON text by using BE library functions for strings:\n",
    "```\n",
    "/**\n",
    " * @description\n",
    " * @author AI Assistant\n",
    " */\n",
    "String rulefunction RuleFunctions.userToJSON {\n",
    "\tattribute {\n",
    "\t\tvalidity = ACTION;\n",
    "\t}\n",
    "\tscope {\n",
    "\t\tConcepts.User user;\n",
    "\t}\n",
    "\tbody {\n",
    "\t\tObject buff = String.createBuffer(300);\n",
    "\t\tString.append(buff, String.format(\"{\\\"name\\\":\\\"%s\\\",\", user.name));\n",
    "\t\tString.append(buff, String.format(\"\\\"status\\\":\\\"%s\\\",\", user.status));\n",
    "\t\tString.append(buff, String.format(\"\\\"rewards\\\":%d,\", user.rewardPoints));\n",
    "\t\tString.append(buff, String.format(\"\\\"orders\\\":%d,\", user.orders@length));\n",
    "\t\tString.append(buff, \"\\\"coupons\\\":[\");\n",
    "\t\tfor (int i = 0; i < user.coupons@length; i++) {\n",
    "\t\t\tString.append(buff, String.format(\"\\\"%s\\\"\", RuleFunctions.couponToString(user.coupons[i])));\n",
    "\t\t\tif (i != user.coupons@length-1) {\n",
    "\t\t\t\tString.append(buff, \",\");\n",
    "\t\t\t}\n",
    "\t\t}\n",
    "\t\tString.append(buff, \"]}\");\n",
    "\t\treturn String.convertBufferToString(buff);\n",
    "\t}\n",
    "}\n",
    "```\n",
    "\n",
    "A valid TIBCO BE rule must not violate any of the following requirements:\n",
    "\n",
    "A rule must include a curly braces block of `attribute` that specifies settings of `priority` and `forwardChain`.\n",
    "A rule must include a curly braces block of `declare` that lists all input variables used by the rule conditions.\n",
    "A rule must include a block of `when` that lists rule condisions for matching properties of the declared variables.  Variables must not be declared in this block.\n",
    "A rule must include a block of `then` that is the code for required actions of the rule.\n",
    "\n",
    "Rules may create new instances of a Concept class by using a constructor function that is named by its class name.  The arguments of a concept constructor includes an unique extId and values of all properties specified by the Concept class definition, e.g.,\n",
    "```\n",
    "Object item = Concepts.ShoppingItem.ShoppingItem(\n",
    "\tnull /*extId String */,\n",
    "\tevt.sku /*sku String */,\n",
    "\tevt.unit /*unit long */,\n",
    "\tamount /*amount double */);\n",
    "```\n",
    "\n",
    "Rules may create new instances of an Event class by using a constructor function that is named by its class name.  The arguments of an event constructor includes an unique extId, a event payload string, and values of all properties specified by the Event class definition, e.g.,\n",
    "```\n",
    "Object evt = Events.HTTPStatus.HTTPStatus(\n",
    "    null /*extId String*/,\n",
    "    RuleFunctions.cartToJSON(cart) /*payload String */,\n",
    "    \"200\" /*status String */);\n",
    "```\n",
    "\n",
    "Rules may include calls to BE library functions.\n",
    "\n",
    "Example of a rule that acts on an event of type AddItemToCart, and adds a matching product to a matching shopping cart:\n",
    "```\n",
    "/**\n",
    " * @description \n",
    " * @author AI Assistant\n",
    " */\n",
    "rule Rules.AddItemToCart {\n",
    "\tattribute {\n",
    "\t\tpriority = 5;\n",
    "\t\tforwardChain = true;\n",
    "\t}\n",
    "\tdeclare {\n",
    "\t\tEvents.AddItemToCart evt;\n",
    "\t\tConcepts.Product prod;\n",
    "\t\tConcepts.ShoppingCart cart;\n",
    "\t}\n",
    "\twhen {\n",
    "\t\tprod.sku == evt.sku;\n",
    "\t\tcart.userName == evt.user;\n",
    "\t}\n",
    "\tthen {\n",
    "\t\tObject logger = Log.getLogger(\"Rules.AddItemToCart\");\n",
    "\t\tdouble amount = evt.unit * prod.price;\n",
    "\t\tcart.items[cart.items@length] = Concepts.ShoppingItem.ShoppingItem(\n",
    "\t\t\tnull /*extId String */,\n",
    "\t\t\tevt.sku /*sku String */,\n",
    "\t\t\tevt.unit /*unit long */,\n",
    "\t\t\tamount /*amount double */);\n",
    "\t\tcart.amount += amount;\n",
    "\t\tLog.log(logger, \"info\", \"Added %d units of SKU %s to shopping cart of %s\", evt.unit, evt.sku, evt.user);\n",
    "\t\tEvent.replyEvent(evt, Events.HTTPStatus.HTTPStatus(null,RuleFunctions.cartToJSON(cart),\"200\"));\n",
    "\t\tEvent.consumeEvent(evt);\n",
    "\t}\n",
    "}\n",
    "```\n",
    "\n",
    "Keep your response brief with only the generated code for a BE rule or function.\n",
    "\"\"\""
   ]
  },
  {
   "cell_type": "code",
   "execution_count": null,
   "id": "1a6e92fd-a16c-477c-b772-9351ea72938d",
   "metadata": {},
   "outputs": [],
   "source": [
    "# convert code instruction into a string to be used in Continue vsCode configuration\n",
    "import json\n",
    "\n",
    "data = {\"systemMessage\": code_instruction}\n",
    "json_string = json.dumps(data)\n",
    "print(json_string)"
   ]
  },
  {
   "cell_type": "code",
   "execution_count": 19,
   "id": "e557806b-66bf-4ec6-9e05-0c975e9ff324",
   "metadata": {},
   "outputs": [],
   "source": [
    "def createAssistant(instruction, store, model=\"gpt-4o\", name=\"BE Assistant\"):\n",
    "  # fetch existing assistants\n",
    "  assistants = client.beta.assistants.list(\n",
    "    order=\"desc\",\n",
    "    limit=\"10\",\n",
    "  )\n",
    "\n",
    "  # return assistant matching specified name if it exists already\n",
    "  matched = [x for x in assistants.data if x.name == name]\n",
    "  if len(matched) > 0:\n",
    "    print(f\"{name} already exists: {matched[0].id}\")\n",
    "    return matched[0]\n",
    "\n",
    "  # create a new assistant\n",
    "  assistant = None\n",
    "  if store is not None:\n",
    "    assistant = client.beta.assistants.create(\n",
    "      name=name,\n",
    "      instructions=instruction,\n",
    "      model=model,\n",
    "      temperature=0.01,\n",
    "      tools=[{\"type\": \"file_search\"}],\n",
    "      tool_resources={\n",
    "        \"file_search\": {\n",
    "          \"vector_store_ids\": [store]\n",
    "        }\n",
    "      }\n",
    "    )\n",
    "  else:\n",
    "    assistant = client.beta.assistants.create(\n",
    "      name=name,\n",
    "      instructions=instruction,\n",
    "      model=model,\n",
    "      temperature=0.01\n",
    "    )\n",
    "\n",
    "  print(f\"{name} is created: {assistant.id}\")\n",
    "  return assistant"
   ]
  },
  {
   "cell_type": "code",
   "execution_count": null,
   "id": "e2f1cee8-1a7e-443c-a44e-d57d14d888f4",
   "metadata": {},
   "outputs": [],
   "source": [
    "# create assistant\n",
    "assistant = createAssistant(code_instruction, vector_store.id)\n",
    "print(assistant.name, assistant.model)"
   ]
  },
  {
   "cell_type": "markdown",
   "id": "0643ed49-dacb-4346-8a2f-e9c86b57acb4",
   "metadata": {},
   "source": [
    "### Define Async Event Handler\n",
    "We use asynchronous streaming to process AI responses here.  Synchronous runner APIs also exist for users to chat with the assistant."
   ]
  },
  {
   "cell_type": "code",
   "execution_count": 23,
   "id": "bc851432-2c5a-4c3c-a5a9-fd62ade2b962",
   "metadata": {},
   "outputs": [],
   "source": [
    "from typing_extensions import override\n",
    "from openai import AssistantEventHandler\n",
    " \n",
    "# Create a EventHandler class to define\n",
    "# how we want to handle the events in the response stream.\n",
    " \n",
    "class EventHandler(AssistantEventHandler):    \n",
    "  @override\n",
    "  def on_text_created(self, text) -> None:\n",
    "    print(f\"\\nassistant > \", end=\"\", flush=True)\n",
    "      \n",
    "  @override\n",
    "  def on_text_delta(self, delta, snapshot):\n",
    "    print(delta.value, end=\"\", flush=True)\n",
    "      \n",
    "  def on_tool_call_created(self, tool_call):\n",
    "    print(f\"\\nassistant > {tool_call.type}\\n\", flush=True)\n",
    "  \n",
    "  def on_tool_call_delta(self, delta, snapshot):\n",
    "    if delta.type == 'file_search':\n",
    "      if delta.file_search.input:\n",
    "        print(delta.file_search.input, end=\"\", flush=True)\n",
    "      if delta.file_search.outputs:\n",
    "        print(f\"\\n\\noutput >\", flush=True)\n",
    "        for output in delta.file_search.outputs:\n",
    "          if output.type == \"logs\":\n",
    "            print(f\"\\n{output.logs}\", flush=True)"
   ]
  },
  {
   "cell_type": "markdown",
   "id": "69773adc-4659-42a2-8088-1a8ef259339c",
   "metadata": {},
   "source": [
    "## Create Thread and Run for a Request\n",
    "User can create a chat thread, send a request to LM, and use the above event handler to printout the response from LM.\n",
    "\n",
    "In the following function, we always create a new thread for each request.  You may reuse the same thread to send multiple requests to the assistant.  However, all previous messages will also be sent again if the same thread is used, and thus it would save costs if a new thread is created for each request except for cases where a follow-up request is related to the previous one."
   ]
  },
  {
   "cell_type": "code",
   "execution_count": 24,
   "id": "0343875b-04a8-4ee6-b277-57c0db132d48",
   "metadata": {},
   "outputs": [],
   "source": [
    "def generateCode(request, name=\"Tuned BE Assistant\"):\n",
    "  # fetch existing BE assistant id\n",
    "  assistants = client.beta.assistants.list(\n",
    "    order=\"desc\",\n",
    "    limit=\"10\",\n",
    "  )\n",
    "  beAssistants = [x for x in assistants.data if x.name == name]\n",
    "  if len(beAssistants) <= 0:\n",
    "    print(f\"{name} does not exist\")\n",
    "    return\n",
    "  assistantId = beAssistants[0].id\n",
    "  print(\"Assistant:\", assistantId)\n",
    "\n",
    "  # create thread and message\n",
    "  thread = client.beta.threads.create()\n",
    "  message = client.beta.threads.messages.create(\n",
    "    thread_id=thread.id,\n",
    "    role=\"user\",\n",
    "    content=request\n",
    "  )\n",
    "\n",
    "  # create run stream, and printout response\n",
    "  with client.beta.threads.runs.stream(\n",
    "    thread_id=thread.id,\n",
    "    assistant_id=assistantId,\n",
    "    event_handler=EventHandler(),\n",
    "  ) as stream:\n",
    "    stream.until_done()"
   ]
  },
  {
   "cell_type": "raw",
   "id": "2107d56a-edb4-46b5-b0a1-4e7747ce95fc",
   "metadata": {},
   "source": [
    "For example, user can create the following request for the AI assistant to write a BE rule according to a detailed instruction."
   ]
  },
  {
   "cell_type": "code",
   "execution_count": 25,
   "id": "026652f3-fec7-4299-b5cd-eb4a611097ad",
   "metadata": {},
   "outputs": [
    {
     "name": "stdout",
     "output_type": "stream",
     "text": [
      "Assistant: asst_Qg8AWyt8qmBDr0su2cgJwjmS\n",
      "\n",
      "assistant > ```java\n",
      "/**\n",
      " * @description Restock inventory based on the event details and send a response.\n",
      " */\n",
      "rule Rules.RestockInventory {\n",
      "\tattribute {\n",
      "\t\tpriority = 5;\n",
      "\t\tforwardChain = true;\n",
      "\t}\n",
      "\tdeclare {\n",
      "\t\tEvents.RestockInventory evt;\n",
      "\t\tConcepts.Inventory inventory;\n",
      "\t}\n",
      "\twhen {\n",
      "\t\tinventory.sku == evt.sku;\n",
      "\t}\n",
      "\tthen {\n",
      "\t\tObject logger = Log.getLogger(\"Rules.RestockInventory\");\n",
      "\t\tinventory.inStock = evt.amount;\n",
      "\t\tLog.log(logger, \"info\", \"Restocked SKU %s with amount %d\", evt.sku, evt.amount);\n",
      "\t\tObject responseEvent = Events.HTTPStatus.HTTPStatus(\n",
      "\t\t\tnull /*extId String*/,\n",
      "\t\t\tString.format(\"Restock completed for SKU %s with amount %d\", evt.sku, evt.amount) /*payload String*/,\n",
      "\t\t\t\"200\" /*status String*/);\n",
      "\t\tEvent.replyEvent(evt, responseEvent);\n",
      "\t\tEvent.consumeEvent(evt);\n",
      "\t}\n",
      "}\n",
      "```"
     ]
    }
   ],
   "source": [
    "# Request for a typical BE rule\n",
    "request = \"\"\"\n",
    "Write a rule RestockInventory to handle an event of type Events.RestockInventory.\n",
    "\n",
    "The rule executes when the sku property of the event matches the sku of a concept of type Concepts.Inventory. It will perform the following actions:\n",
    "\n",
    "1. Set the inStock count of the concept to the amount specified by the event;\n",
    "2. Write a log message containing the sku and restock amount;\n",
    "3. Create a response event using the event constructor of HTTPStatus with a payload denoting successful completion and an HTTP status of \"200\";\n",
    "4. Send the reply event;\n",
    "5. Consume the event.\n",
    "\"\"\"\n",
    "generateCode(request)"
   ]
  },
  {
   "cell_type": "markdown",
   "id": "85de16c3-de10-4c3e-a1d7-d2b1845237d9",
   "metadata": {},
   "source": [
    "## More Requests for BE Rules\n",
    "Following example creates a BE rule that uses library functions for files."
   ]
  },
  {
   "cell_type": "code",
   "execution_count": 26,
   "id": "49ed5dd9-a915-4158-858c-3573d025a808",
   "metadata": {},
   "outputs": [
    {
     "name": "stdout",
     "output_type": "stream",
     "text": [
      "Assistant: asst_Qg8AWyt8qmBDr0su2cgJwjmS\n",
      "\n",
      "assistant > ```java\n",
      "/**\n",
      " * @description \n",
      " * @author AI Assistant\n",
      " */\n",
      "rule Rules.TestFile {\n",
      "\tattribute {\n",
      "\t\tpriority = 5;\n",
      "\t\tforwardChain = true;\n",
      "\t}\n",
      "\tdeclare {\n",
      "\t\tEvents.WriteConcept evt;\n",
      "\t}\n",
      "\twhen {\n",
      "\t}\n",
      "\tthen {\n",
      "\t\tObject logger = Log.getLogger(\"Rules.TestFile\");\n",
      "\t\tString conceptId = evt.conceptId;\n",
      "\t\tboolean lockAcquired = Cluster.DataGrid.Lock(conceptId, 500, false);\n",
      "\t\t\n",
      "\t\tif (!lockAcquired) {\n",
      "\t\t\tLog.log(logger, \"error\", \"Failed to acquire lock for conceptId: %s\", conceptId);\n",
      "\t\t} else {\n",
      "\t\t\tConcepts.Inventory inventory = Cluster.DataGrid.CacheLoadConceptById(conceptId, true);\n",
      "\t\t\tString filePath = System.getGlobalVariableAsString(\"LogFile\");\n",
      "\t\t\tLog.log(logger, \"info\", \"ConceptId: %s, FilePath: %s\", conceptId, filePath);\n",
      "\t\t\t\n",
      "\t\t\tObject file = File.open(filePath, \"rw\");\n",
      "\t\t\tString json = JSON.serializeConcept(inventory);\n",
      "\t\t\tFile.write(file, json);\n",
      "\t\t\tFile.close(file);\n",
      "\t\t}\n",
      "\t\t\n",
      "\t\tEvent.consumeEvent(evt);\n",
      "\t}\n",
      "}\n",
      "```"
     ]
    }
   ],
   "source": [
    "# A sample BE rule that writes a file\n",
    "request = \"\"\"\n",
    "Write a rule Rules.TestFile that executes on any event of type WriteConcept. The rule will perform the following actions:\n",
    "\n",
    "1. Acquire a cluster-wide lock on the conceptId specified by the event, with a timeout of 500 ms;\n",
    "2. If failed to acquire the lock, log the error of failed lock; otherwise,\n",
    "3. Load a concept of type Concepts.Inventory from BE cache by using the specified conceptId;\n",
    "4. Lookup a file path specified by a system global variable of name \"LogFile\";\n",
    "5. Write a log message containing the conceptId and the file path;\n",
    "6. Open the file for read and write by using the path;\n",
    "7. Serialize the loaded concept into JSON string, and then write the result to the file;\n",
    "8. Close the file;\n",
    "9. consume the event.\n",
    "\"\"\"\n",
    "generateCode(request)"
   ]
  },
  {
   "cell_type": "code",
   "execution_count": 31,
   "id": "7c8d7783-6d86-4045-a93d-efbca3372198",
   "metadata": {},
   "outputs": [
    {
     "name": "stdout",
     "output_type": "stream",
     "text": [
      "Assistant: asst_HTJotqGH9r253VbuzB1yyJKd\n",
      "\n",
      "assistant > file_search\n",
      "\n",
      "\n",
      "assistant > ```java\n",
      "/**\n",
      " * @description Rule to handle WriteConcept events and perform specified actions\n",
      " * @ruleauthor AI Assistant\n",
      " */\n",
      "rule Rules.TestFile {\n",
      "\tattribute {\n",
      "\t\tpriority = 5;\n",
      "\t\tforwardChain = true;\n",
      "\t}\n",
      "\tdeclare {\n",
      "\t\tEvents.WriteConcept evt;\n",
      "\t\tConcepts.Inventory inventory;\n",
      "\t}\n",
      "\twhen {\n",
      "\t\t// No specific conditions, rule triggers on any WriteConcept event\n",
      "\t}\n",
      "\tthen {\n",
      "\t\tObject logger = Log.getLogger(\"Rules.TestFile\");\n",
      "\t\tString conceptId = evt.conceptId;\n",
      "\t\tboolean lockAcquired = Cluster.DataGrid.Lock(conceptId, 500, false);\n",
      "\t\t\n",
      "\t\tif (!lockAcquired) {\n",
      "\t\t\tLog.log(logger, \"error\", \"Failed to acquire lock for conceptId: %s\", conceptId);\n",
      "\t\t} else {\n",
      "\t\t\tinventory = Cluster.DataGrid.CacheLoadConceptById(conceptId, true);\n",
      "\t\t\tString logFilePath = System.getGlobalVariableAsString(\"LogFile\", \"/default/path/to/logfile\");\n",
      "\t\t\tLog.log(logger, \"info\", \"Processing conceptId: %s, Log file path: %s\", conceptId, logFilePath);\n",
      "\t\t\t\n",
      "\t\t\tSystem.IO.fileWrite(logFilePath, String.format(\"Processing conceptId: %s\\n\", conceptId), true, true);\n",
      "\t\t\t\n",
      "\t\t\tString jsonString = Instance.filterAndSerializeUsingDefaults(inventory, \".*\");\n",
      "\t\t\tSystem.IO.fileWrite(logFilePath, jsonString, true, true);\n",
      "\t\t\t\n",
      "\t\t\tSystem.IO.fileClose(logFilePath);\n",
      "\t\t}\n",
      "\t\t\n",
      "\t\tEvent.consumeEvent(evt);\n",
      "\t}\n",
      "}\n",
      "```"
     ]
    }
   ],
   "source": [
    "# Use assistent with embeddings to create a sample BE rule that writes a file\n",
    "request = \"\"\"\n",
    "Write a rule Rules.TestFile that executes on any event of type WriteConcept. The rule will perform the following actions:\n",
    "\n",
    "1. Acquire a cluster-wide lock on the conceptId specified by the event, with a timeout of 500 ms;\n",
    "2. If failed to acquire the lock, log the error of failed lock; otherwise,\n",
    "3. Load a concept of type Concepts.Inventory from BE cache by using the specified conceptId;\n",
    "4. Lookup a file path specified by a system global variable of name \"LogFile\";\n",
    "5. Write a log message containing the conceptId and the file path;\n",
    "6. Open the file for read and write by using the path;\n",
    "7. Serialize the loaded concept into JSON string, and then write the result to the file;\n",
    "8. Close the file;\n",
    "9. consume the event.\n",
    "\"\"\"\n",
    "generateCode(request, \"BE Assistant\")"
   ]
  },
  {
   "cell_type": "markdown",
   "id": "715b25ea-5502-4264-a505-f70784ca8331",
   "metadata": {},
   "source": [
    "## Request for BE Functions\n",
    "User may also send requests to write BE functions.  Following is a simple function."
   ]
  },
  {
   "cell_type": "code",
   "execution_count": 27,
   "id": "cf108689-52c3-4603-934d-60cebd3b9a4a",
   "metadata": {},
   "outputs": [
    {
     "name": "stdout",
     "output_type": "stream",
     "text": [
      "Assistant: asst_Qg8AWyt8qmBDr0su2cgJwjmS\n",
      "\n",
      "assistant > ```java\n",
      "/**\n",
      " * @description Load Order concept by specified Id from cache. Create new if it does not exist.\n",
      " * @author AI Assistant\n",
      " */\n",
      "Concepts.Order rulefunction RuleFunctions.loadOrCreateOrder {\n",
      "\tattribute {\n",
      "\t\tvalidity = ACTION;\n",
      "\t}\n",
      "\tscope {\n",
      "\t\tString oid;\n",
      "\t}\n",
      "\tbody {\n",
      "\t\tConcepts.Order order = Cluster.DataGrid.CacheLoadConceptById(oid, true);\n",
      "\t\tif (order == null) {\n",
      "\t\t\torder = Concepts.Order.Order(oid /*extId*/, /* initialize other properties if needed */);\n",
      "\t\t}\n",
      "\t\treturn order;\n",
      "\t}\n",
      "}\n",
      "```"
     ]
    }
   ],
   "source": [
    "# Simple function\n",
    "request = \"\"\"\n",
    "write a function to load Order concept by specified Id from cache.  create new if it does not exist.\n",
    "\"\"\"\n",
    "generateCode(request)"
   ]
  },
  {
   "cell_type": "markdown",
   "id": "28a57973-f113-47aa-9fab-4e0ca6d8c776",
   "metadata": {},
   "source": [
    "Following is a typical BE processor function"
   ]
  },
  {
   "cell_type": "code",
   "execution_count": 28,
   "id": "191b0ab9-eba1-4e68-bf15-3be2f53d14b4",
   "metadata": {},
   "outputs": [
    {
     "name": "stdout",
     "output_type": "stream",
     "text": [
      "Assistant: asst_Qg8AWyt8qmBDr0su2cgJwjmS\n",
      "\n",
      "assistant > ```java\n",
      "/**\n",
      " * @description Preprocess OrderStatus event by acquiring lock and loading Order concept\n",
      " * @author AI\n",
      " */\n",
      "void rulefunction RuleFunctions.onOrderStatus {\n",
      "\tattribute {\n",
      "\t\tvalidity = ACTION;\n",
      "\t}\n",
      "\tscope {\n",
      "\t\tEvents.OrderStatus evt;\n",
      "\t}\n",
      "\tbody {\n",
      "\t\tObject logger = Log.getLogger(\"RuleFunctions.onOrderStatus\");\n",
      "\n",
      "\t\t// Acquire cluster-wide lock\n",
      "\t\tboolean lockAcquired = Cluster.DataGrid.Lock(evt.orderId, 500, false);\n",
      "\t\tLog.log(logger, \"info\", \"Lock acquired on orderId %s: %b\", evt.orderId, lockAcquired);\n",
      "\n",
      "\t\tif (lockAcquired) {\n",
      "\t\t\t// Load Order concept from cache\n",
      "\t\t\tConcepts.Order order = Cluster.DataGrid.CacheLoadConceptById(evt.orderId, true);\n",
      "\t\t\tif (order != null) {\n",
      "\t\t\t\tLog.log(logger, \"info\", \"Order loaded from cache: %s\", evt.orderId);\n",
      "\t\t\t} else {\n",
      "\t\t\t\tLog.log(logger, \"warn\", \"Order not found in cache: %s\", evt.orderId);\n",
      "\t\t\t}\n",
      "\t\t} else {\n",
      "\t\t\tLog.log(logger, \"warn\", \"Failed to acquire lock on orderId: %s\", evt.orderId);\n",
      "\t\t}\n",
      "\t}\n",
      "}\n",
      "```"
     ]
    }
   ],
   "source": [
    "# Preprocessor function\n",
    "request = \"\"\"\n",
    "Write a function to preprocess an OrderStatus event.\n",
    "\n",
    "Acquire a cluster-wide lock on the orderId specified by the event, then load an Order concept from cache by using the specified orderId.  \n",
    "\n",
    "Log the status of the operations. Do not unlock the outstanding lock.\n",
    "\"\"\"\n",
    "generateCode(request)"
   ]
  },
  {
   "cell_type": "markdown",
   "id": "db4bfb61-54fe-4427-8254-db02bd503c08",
   "metadata": {},
   "source": [
    "Following is a function using BE library functions for string manipulation."
   ]
  },
  {
   "cell_type": "code",
   "execution_count": 29,
   "id": "bc3b265f-a82a-4639-b872-205517bdb103",
   "metadata": {},
   "outputs": [
    {
     "name": "stdout",
     "output_type": "stream",
     "text": [
      "Assistant: asst_Qg8AWyt8qmBDr0su2cgJwjmS\n",
      "\n",
      "assistant > ```java\n",
      "/**\n",
      " * @description Count occurrences of a word in the document content and log details.\n",
      " * @author AI\n",
      " */\n",
      "int rulefunction Functions.countWord {\n",
      "\tattribute {\n",
      "\t\tvalidity = ACTION;\n",
      "\t}\n",
      "\tscope {\n",
      "\t\tString content;\n",
      "\t\tString word;\n",
      "\t}\n",
      "\tbody {\n",
      "\t\tObject logger = Log.getLogger(\"Functions.countWord\");\n",
      "\t\tint count = 0;\n",
      "\t\tint position = String.indexOf(content, word);\n",
      "\t\t\n",
      "\t\tif (position == -1) {\n",
      "\t\t\tLog.log(logger, \"info\", \"Word not found in the content.\");\n",
      "\t\t\treturn count;\n",
      "\t\t}\n",
      "\t\t\n",
      "\t\tLog.log(logger, \"info\", \"First position of the word found at: %d\", position);\n",
      "\t\tcount++;\n",
      "\t\t\n",
      "\t\twhile (position != -1) {\n",
      "\t\t\tposition = String.indexOf(content, word, position + 1);\n",
      "\t\t\tif (position != -1) {\n",
      "\t\t\t\tcount++;\n",
      "\t\t\t}\n",
      "\t\t}\n",
      "\t\t\n",
      "\t\tLog.log(logger, \"info\", \"Total count of the word occurrences: %d\", count);\n",
      "\t\treturn count;\n",
      "\t}\n",
      "}\n",
      "```"
     ]
    }
   ],
   "source": [
    "# Function for string manipulation\n",
    "request = \"\"\"\n",
    "Write a function `Functions.countWord` that demonstrates string functions. The function inputs a text content of a document and a word to be searched.  It performs the following tasks:\n",
    "\n",
    "1. Find the first position of the word in the content of the document;\n",
    "2. Log the first position of the word found;\n",
    "3. Find the next occurrence of the word in the content, and increase the count of the occurrences;\n",
    "4. Loop until no more occurrences of the word is found;\n",
    "5. Log the total count of the word occurrences;\n",
    "6. Return the total count.\n",
    "\"\"\"\n",
    "generateCode(request)"
   ]
  },
  {
   "cell_type": "code",
   "execution_count": 32,
   "id": "8e6ba70a-ea1c-4300-8489-7d39f95abf8b",
   "metadata": {},
   "outputs": [
    {
     "name": "stdout",
     "output_type": "stream",
     "text": [
      "Assistant: asst_HTJotqGH9r253VbuzB1yyJKd\n",
      "\n",
      "assistant > file_search\n",
      "\n",
      "\n",
      "assistant > ```java\n",
      "/**\n",
      " * @description Function to count occurrences of a word in a document content and log the details.\n",
      " * @param content The text content of the document.\n",
      " * @param word The word to be searched in the content.\n",
      " * @return The total count of the word occurrences.\n",
      " */\n",
      "int rulefunction Functions.countWord {\n",
      "    attribute {\n",
      "        validity = ACTION;\n",
      "    }\n",
      "    scope {\n",
      "        String content;\n",
      "        String word;\n",
      "    }\n",
      "    body {\n",
      "        Object logger = Log.getLogger(\"Functions.countWord\");\n",
      "        int count = 0;\n",
      "        int position = String.indexOfString(content, 0, word);\n",
      "        \n",
      "        if (position == -1) {\n",
      "            Log.log(logger, \"info\", \"Word '%s' not found in the content.\", word);\n",
      "            return count;\n",
      "        }\n",
      "        \n",
      "        Log.log(logger, \"info\", \"First occurrence of word '%s' found at position %d.\", word, position);\n",
      "        count++;\n",
      "        \n",
      "        while (true) {\n",
      "            position = String.indexOfString(content, position + word@length, word);\n",
      "            if (position == -1) {\n",
      "                break;\n",
      "            }\n",
      "            count++;\n",
      "        }\n",
      "        \n",
      "        Log.log(logger, \"info\", \"Total occurrences of word '%s': %d\", word, count);\n",
      "        return count;\n",
      "    }\n",
      "}\n",
      "```\n",
      "\n",
      "This function uses the `String.indexOfString` method to find the first and subsequent occurrences of the word in the content. It logs the first position and the total count of occurrences using the `Log.log` method. The loop continues until no more occurrences of the word are found."
     ]
    }
   ],
   "source": [
    "# Use model with embedding to create function of string manipulation\n",
    "request = \"\"\"\n",
    "Write a function `Functions.countWord` that demonstrates string functions. The function inputs a text content of a document and a word to be searched.  It performs the following tasks:\n",
    "\n",
    "1. Find the first position of the word in the content of the document;\n",
    "2. Log the first position of the word found;\n",
    "3. Find the next occurrence of the word in the content, and increase the count of the occurrences;\n",
    "4. Loop until no more occurrences of the word is found;\n",
    "5. Log the total count of the word occurrences;\n",
    "6. Return the total count.\n",
    "\"\"\"\n",
    "generateCode(request, \"BE Assistant\")"
   ]
  },
  {
   "cell_type": "markdown",
   "id": "50d6edb4-e913-41b1-882d-cf4c34464182",
   "metadata": {},
   "source": [
    "Following is a function using BE library functions for RDBMS query."
   ]
  },
  {
   "cell_type": "code",
   "execution_count": 30,
   "id": "4fc80c39-b0f6-485a-b8bf-0d691e20d728",
   "metadata": {},
   "outputs": [
    {
     "name": "stdout",
     "output_type": "stream",
     "text": [
      "Assistant: asst_Qg8AWyt8qmBDr0su2cgJwjmS\n",
      "\n",
      "assistant > ```java\n",
      "/**\n",
      " * @description Demonstrates RDBMS functions by executing a SQL query and returning concepts.\n",
      " * @author AI\n",
      " */\n",
      "Object[] rulefunction Functions.executeQuery {\n",
      "\tattribute {\n",
      "\t\tvalidity = ACTION;\n",
      "\t}\n",
      "\tscope {\n",
      "\t\tString jdbcResourceURI;\n",
      "\t\tString sql;\n",
      "\t\tString conceptURI;\n",
      "\t}\n",
      "\tbody {\n",
      "\t\tObject logger = Log.getLogger(\"Functions.executeQuery\");\n",
      "\t\tLog.log(logger, \"info\", \"Setting RDBMS connection to: %s\", jdbcResourceURI);\n",
      "\t\tRDBMS.setConnection(jdbcResourceURI);\n",
      "\n",
      "\t\tLog.log(logger, \"info\", \"Executing SQL: %s\", sql);\n",
      "\t\tObject[] results = RDBMS.executeQuery(sql, conceptURI);\n",
      "\n",
      "\t\tLog.log(logger, \"info\", \"Number of concepts returned: %d\", results@length);\n",
      "\t\tRDBMS.releaseConnection();\n",
      "\n",
      "\t\treturn results;\n",
      "\t}\n",
      "}\n",
      "```"
     ]
    }
   ],
   "source": [
    "# Function for RDBMS query\n",
    "request = \"\"\"\n",
    "Write a function `Functions.executeQuery` that demonstrates RDBMS functions. The function inputs a jdbcResourceURI, a SQL string, and a conceptURI for returing concepts.  It performs the following tasks:\n",
    "\n",
    "1. Set the current RDBMS connection to the specified jdbcResourceURI;\n",
    "2. Log the SQL statement to be executed;\n",
    "3. Execute the query;\n",
    "4. Log the number of concepts returned by the query;\n",
    "5. Release the RDBMS connection;\n",
    "6. Return the list of concepts from the RDBMS query.\n",
    "\"\"\"\n",
    "generateCode(request)"
   ]
  },
  {
   "cell_type": "code",
   "execution_count": 33,
   "id": "ffb78fc6-1767-4ccf-9c3f-fdc705ce6bad",
   "metadata": {},
   "outputs": [
    {
     "name": "stdout",
     "output_type": "stream",
     "text": [
      "Assistant: asst_HTJotqGH9r253VbuzB1yyJKd\n",
      "\n",
      "assistant > file_search\n",
      "\n",
      "\n",
      "assistant > ```java\n",
      "/**\n",
      " * @description Executes a SQL query using the specified JDBC resource URI and returns the resulting concepts.\n",
      " * @param jdbcResourceURI The JDBC resource URI for the database connection.\n",
      " * @param sql The SQL query string to execute.\n",
      " * @param conceptURI The URI of the concept type to return.\n",
      " * @return A list of concepts resulting from the SQL query.\n",
      " */\n",
      "Concept[] rulefunction Functions.executeQuery {\n",
      "    attribute {\n",
      "        validity = ACTION;\n",
      "    }\n",
      "    scope {\n",
      "        String jdbcResourceURI;\n",
      "        String sql;\n",
      "        String conceptURI;\n",
      "    }\n",
      "    body {\n",
      "        // Set the current RDBMS connection\n",
      "        Database.setCurrentConnection(jdbcResourceURI);\n",
      "        \n",
      "        // Log the SQL statement to be executed\n",
      "        Object logger = Log.getLogger(\"Functions.executeQuery\");\n",
      "        Log.log(logger, \"info\", \"Executing SQL: %s\", sql);\n",
      "        \n",
      "        // Execute the query\n",
      "        Concept[] results = Database.queryUsingSQL(conceptURI, sql, true);\n",
      "        \n",
      "        // Log the number of concepts returned by the query\n",
      "        Log.log(logger, \"info\", \"Number of concepts returned: %d\", results@length);\n",
      "        \n",
      "        // Release the RDBMS connection\n",
      "        Database.unsetConnection();\n",
      "        \n",
      "        // Return the list of concepts\n",
      "        return results;\n",
      "    }\n",
      "}\n",
      "```\n",
      "\n",
      "This function performs the following tasks:\n",
      "1. Sets the current RDBMS connection to the specified `jdbcResourceURI` using `Database.setCurrentConnection()`.\n",
      "2. Logs the SQL statement to be executed using `Log.log()`.\n",
      "3. Executes the query using `Database.queryUsingSQL()`.\n",
      "4. Logs the number of concepts returned by the query.\n",
      "5. Releases the RDBMS connection using `Database.unsetConnection()`.\n",
      "6. Returns the list of concepts from the RDBMS query."
     ]
    }
   ],
   "source": [
    "# Use model with embeddings to create function for RDBMS query\n",
    "request = \"\"\"\n",
    "Write a function `Functions.executeQuery` that demonstrates RDBMS functions. The function inputs a jdbcResourceURI, a SQL string, and a conceptURI for returing concepts.  It performs the following tasks:\n",
    "\n",
    "1. Set the current RDBMS connection to the specified jdbcResourceURI;\n",
    "2. Log the SQL statement to be executed;\n",
    "3. Execute the query;\n",
    "4. Log the number of concepts returned by the query;\n",
    "5. Release the RDBMS connection;\n",
    "6. Return the list of concepts from the RDBMS query.\n",
    "\"\"\"\n",
    "generateCode(request, \"BE Assistant\")"
   ]
  },
  {
   "cell_type": "markdown",
   "id": "eb4ebfbe-8096-4b1f-ba83-a0ec959ab82c",
   "metadata": {},
   "source": [
    "## AI Model Fine-tuning\n",
    "When BE library functions use multi-level nested packages, or multiple functions exist for similar tasks such as load concepts from cache or from memory, LM may not be able to decide which function to call, and it may also make up a hallucinated Java function calls.  To correct such problems, we try to fine-tune the AI model as follows. "
   ]
  },
  {
   "cell_type": "markdown",
   "id": "050979da-16d0-473b-a154-0da60c5795f4",
   "metadata": {},
   "source": [
    "### Validate Dataset for Fine-tuning\n",
    "#### Load dataset for tuning"
   ]
  },
  {
   "cell_type": "code",
   "execution_count": 5,
   "id": "3fb4f99d-678c-4db6-9552-7e5f4c581200",
   "metadata": {},
   "outputs": [
    {
     "name": "stdout",
     "output_type": "stream",
     "text": [
      "Num examples: 706\n",
      "First example:\n",
      "{'role': 'system', 'content': 'BE Assistant'}\n",
      "{'role': 'user', 'content': 'This method returns the maximum history value since the specified time.'}\n",
      "{'role': 'assistant', 'content': 'Object Temporal.Numeric.maxSince(PropertyAtom pa, long time)'}\n"
     ]
    }
   ],
   "source": [
    "import json\n",
    "data_path = \"Standard.jsonl\"\n",
    "\n",
    "# Load the dataset\n",
    "with open(data_path, 'r', encoding='utf-8') as f:\n",
    "    dataset = [json.loads(line) for line in f]\n",
    "\n",
    "# Initial dataset stats\n",
    "print(\"Num examples:\", len(dataset))\n",
    "print(\"First example:\")\n",
    "for message in dataset[0][\"messages\"]:\n",
    "    print(message)"
   ]
  },
  {
   "cell_type": "markdown",
   "id": "44b89e88-0bb4-49b0-aa15-6d5c1ddefb27",
   "metadata": {},
   "source": [
    "#### Validate data format"
   ]
  },
  {
   "cell_type": "code",
   "execution_count": 6,
   "id": "be22066e-5f78-493e-81b2-7fe85e492fa1",
   "metadata": {},
   "outputs": [
    {
     "name": "stdout",
     "output_type": "stream",
     "text": [
      "No errors found\n"
     ]
    }
   ],
   "source": [
    "from collections import defaultdict\n",
    "\n",
    "# Format error checks\n",
    "format_errors = defaultdict(int)\n",
    "\n",
    "for ex in dataset:\n",
    "    if not isinstance(ex, dict):\n",
    "        format_errors[\"data_type\"] += 1\n",
    "        continue\n",
    "        \n",
    "    messages = ex.get(\"messages\", None)\n",
    "    if not messages:\n",
    "        format_errors[\"missing_messages_list\"] += 1\n",
    "        continue\n",
    "        \n",
    "    for message in messages:\n",
    "        if \"role\" not in message or \"content\" not in message:\n",
    "            format_errors[\"message_missing_key\"] += 1\n",
    "        \n",
    "        if any(k not in (\"role\", \"content\", \"name\", \"function_call\", \"weight\") for k in message):\n",
    "            format_errors[\"message_unrecognized_key\"] += 1\n",
    "        \n",
    "        if message.get(\"role\", None) not in (\"system\", \"user\", \"assistant\", \"function\"):\n",
    "            format_errors[\"unrecognized_role\"] += 1\n",
    "            \n",
    "        content = message.get(\"content\", None)\n",
    "        function_call = message.get(\"function_call\", None)\n",
    "        \n",
    "        if (not content and not function_call) or not isinstance(content, str):\n",
    "            format_errors[\"missing_content\"] += 1\n",
    "            print(messages)\n",
    "    \n",
    "    if not any(message.get(\"role\", None) == \"assistant\" for message in messages):\n",
    "        format_errors[\"example_missing_assistant_message\"] += 1\n",
    "\n",
    "if format_errors:\n",
    "    print(\"Found errors:\")\n",
    "    for k, v in format_errors.items():\n",
    "        print(f\"{k}: {v}\")\n",
    "else:\n",
    "    print(\"No errors found\")"
   ]
  },
  {
   "cell_type": "markdown",
   "id": "a4c83113-c44f-4014-910e-2ef38e830843",
   "metadata": {},
   "source": [
    "#### Data warnings and token counts"
   ]
  },
  {
   "cell_type": "code",
   "execution_count": null,
   "id": "876e3c5a-56c8-424c-8913-8359766a31be",
   "metadata": {},
   "outputs": [],
   "source": [
    "!pip install tiktoken"
   ]
  },
  {
   "cell_type": "code",
   "execution_count": 7,
   "id": "cfcfdd72-2d56-4c17-9673-bd84ffdb4f14",
   "metadata": {},
   "outputs": [],
   "source": [
    "import tiktoken\n",
    "\n",
    "encoding = tiktoken.get_encoding(\"cl100k_base\")\n",
    "\n",
    "# not exact!\n",
    "# simplified from https://github.com/openai/openai-cookbook/blob/main/examples/How_to_count_tokens_with_tiktoken.ipynb\n",
    "def num_tokens_from_messages(messages, tokens_per_message=3, tokens_per_name=1):\n",
    "    num_tokens = 0\n",
    "    for message in messages:\n",
    "        num_tokens += tokens_per_message\n",
    "        for key, value in message.items():\n",
    "            num_tokens += len(encoding.encode(value))\n",
    "            if key == \"name\":\n",
    "                num_tokens += tokens_per_name\n",
    "    num_tokens += 3\n",
    "    return num_tokens\n",
    "\n",
    "def num_assistant_tokens_from_messages(messages):\n",
    "    num_tokens = 0\n",
    "    for message in messages:\n",
    "        if message[\"role\"] == \"assistant\":\n",
    "            num_tokens += len(encoding.encode(message[\"content\"]))\n",
    "    return num_tokens\n",
    "\n",
    "def print_distribution(values, name):\n",
    "    print(f\"\\n#### Distribution of {name}:\")\n",
    "    print(f\"min / max: {min(values)}, {max(values)}\")\n",
    "    print(f\"mean / median: {np.mean(values)}, {np.median(values)}\")\n",
    "    print(f\"p5 / p95: {np.quantile(values, 0.1)}, {np.quantile(values, 0.9)}\")"
   ]
  },
  {
   "cell_type": "code",
   "execution_count": 8,
   "id": "192bd1f3-c46e-4905-8d92-a3bd1b121976",
   "metadata": {},
   "outputs": [
    {
     "name": "stdout",
     "output_type": "stream",
     "text": [
      "50923\n"
     ]
    }
   ],
   "source": [
    "# Estimate size of training dataset\n",
    "with open(\"Standard.jsonl\", \"r\") as f:\n",
    "    content = f.read()\n",
    "    print(len(encoding.encode(content)))"
   ]
  },
  {
   "cell_type": "code",
   "execution_count": null,
   "id": "5d872066-ff8b-4557-90c3-9757594938db",
   "metadata": {},
   "outputs": [],
   "source": [
    "!pip install numpy"
   ]
  },
  {
   "cell_type": "code",
   "execution_count": 9,
   "id": "1e6da9e5-84c3-45e3-a98f-90e826d354e9",
   "metadata": {},
   "outputs": [
    {
     "name": "stdout",
     "output_type": "stream",
     "text": [
      "Num examples missing system message: 0\n",
      "Num examples missing user message: 0\n",
      "\n",
      "#### Distribution of num_messages_per_example:\n",
      "min / max: 3, 3\n",
      "mean / median: 3.0, 3.0\n",
      "p5 / p95: 3.0, 3.0\n",
      "\n",
      "#### Distribution of num_total_tokens_per_example:\n",
      "min / max: 22, 233\n",
      "mean / median: 49.89376770538244, 43.0\n",
      "p5 / p95: 31.0, 80.5\n",
      "\n",
      "#### Distribution of num_assistant_tokens_per_example:\n",
      "min / max: 4, 37\n",
      "mean / median: 13.242209631728045, 12.0\n",
      "p5 / p95: 7.0, 20.0\n",
      "\n",
      "0 examples may be over the 16,385 token limit, they will be truncated during fine-tuning\n"
     ]
    }
   ],
   "source": [
    "import numpy as np\n",
    "\n",
    "# Warnings and tokens counts\n",
    "n_missing_system = 0\n",
    "n_missing_user = 0\n",
    "n_messages = []\n",
    "convo_lens = []\n",
    "assistant_message_lens = []\n",
    "\n",
    "for ex in dataset:\n",
    "    messages = ex[\"messages\"]\n",
    "    if not any(message[\"role\"] == \"system\" for message in messages):\n",
    "        n_missing_system += 1\n",
    "    if not any(message[\"role\"] == \"user\" for message in messages):\n",
    "        n_missing_user += 1\n",
    "    n_messages.append(len(messages))\n",
    "    convo_lens.append(num_tokens_from_messages(messages))\n",
    "    assistant_message_lens.append(num_assistant_tokens_from_messages(messages))\n",
    "    \n",
    "print(\"Num examples missing system message:\", n_missing_system)\n",
    "print(\"Num examples missing user message:\", n_missing_user)\n",
    "print_distribution(n_messages, \"num_messages_per_example\")\n",
    "print_distribution(convo_lens, \"num_total_tokens_per_example\")\n",
    "print_distribution(assistant_message_lens, \"num_assistant_tokens_per_example\")\n",
    "n_too_long = sum(l > 16385 for l in convo_lens)\n",
    "print(f\"\\n{n_too_long} examples may be over the 16,385 token limit, they will be truncated during fine-tuning\")"
   ]
  },
  {
   "cell_type": "markdown",
   "id": "3717def3-1e25-4b32-aecb-7c1c2e40c5c5",
   "metadata": {},
   "source": [
    "#### Estimate cost"
   ]
  },
  {
   "cell_type": "code",
   "execution_count": 10,
   "id": "d31bb976-79a3-471c-b490-2b81d72fea80",
   "metadata": {},
   "outputs": [
    {
     "name": "stdout",
     "output_type": "stream",
     "text": [
      "Dataset has ~35225 tokens that will be charged for during training\n",
      "By default, you'll train for 3 epochs on this dataset\n",
      "By default, you'll be charged for ~105675 tokens\n"
     ]
    }
   ],
   "source": [
    "# Pricing and default n_epochs estimate\n",
    "MAX_TOKENS_PER_EXAMPLE = 16385\n",
    "\n",
    "TARGET_EPOCHS = 3\n",
    "MIN_TARGET_EXAMPLES = 100\n",
    "MAX_TARGET_EXAMPLES = 25000\n",
    "MIN_DEFAULT_EPOCHS = 1\n",
    "MAX_DEFAULT_EPOCHS = 25\n",
    "\n",
    "n_epochs = TARGET_EPOCHS\n",
    "n_train_examples = len(dataset)\n",
    "if n_train_examples * TARGET_EPOCHS < MIN_TARGET_EXAMPLES:\n",
    "    n_epochs = min(MAX_DEFAULT_EPOCHS, MIN_TARGET_EXAMPLES // n_train_examples)\n",
    "elif n_train_examples * TARGET_EPOCHS > MAX_TARGET_EXAMPLES:\n",
    "    n_epochs = max(MIN_DEFAULT_EPOCHS, MAX_TARGET_EXAMPLES // n_train_examples)\n",
    "\n",
    "n_billing_tokens_in_dataset = sum(min(MAX_TOKENS_PER_EXAMPLE, length) for length in convo_lens)\n",
    "print(f\"Dataset has ~{n_billing_tokens_in_dataset} tokens that will be charged for during training\")\n",
    "print(f\"By default, you'll train for {n_epochs} epochs on this dataset\")\n",
    "print(f\"By default, you'll be charged for ~{n_epochs * n_billing_tokens_in_dataset} tokens\")"
   ]
  },
  {
   "cell_type": "markdown",
   "id": "ffaa7c33-79fa-4408-8b56-3d5ea2f7ac78",
   "metadata": {},
   "source": [
    "### Upload Training File"
   ]
  },
  {
   "cell_type": "code",
   "execution_count": 13,
   "id": "fbea9650-e73d-44df-ac06-b78797f1fac1",
   "metadata": {},
   "outputs": [
    {
     "name": "stdout",
     "output_type": "stream",
     "text": [
      "file-RrR3mRJU8DdU9Uq6iWji5ClP\n"
     ]
    }
   ],
   "source": [
    "trainingFile = client.files.create(\n",
    "  file=open(data_path, \"rb\"),\n",
    "  purpose=\"fine-tune\"\n",
    ")\n",
    "print(trainingFile.id)"
   ]
  },
  {
   "cell_type": "markdown",
   "id": "ceb4eb54-88a4-41a3-9333-91a78b1aa832",
   "metadata": {},
   "source": [
    "### Start Training Job"
   ]
  },
  {
   "cell_type": "code",
   "execution_count": 15,
   "id": "203eb53a-7540-4fe6-a356-419a2fbc7bbd",
   "metadata": {},
   "outputs": [
    {
     "name": "stdout",
     "output_type": "stream",
     "text": [
      "ftjob-czwfG3aWn5odlW4mshx6AQzv\n"
     ]
    }
   ],
   "source": [
    "tuningJob = client.fine_tuning.jobs.create(\n",
    "  training_file=trainingFile.id, \n",
    "  model=\"gpt-4o-2024-08-06\",\n",
    "  suffix=\"tibco-be\",\n",
    "  hyperparameters={\n",
    "    \"n_epochs\": 4\n",
    "  }\n",
    ")\n",
    "print(tuningJob.id)"
   ]
  },
  {
   "cell_type": "markdown",
   "id": "912a3e03-271a-4cae-91e9-8f85ebffd4e2",
   "metadata": {},
   "source": [
    "### Check Training Status"
   ]
  },
  {
   "cell_type": "code",
   "execution_count": 18,
   "id": "b4340ccf-c1fc-470b-bdba-6b4f94330730",
   "metadata": {},
   "outputs": [
    {
     "name": "stdout",
     "output_type": "stream",
     "text": [
      "succeeded 136476 ft:gpt-4o-2024-08-06:personal:tibco-be:A3t3UIIn\n"
     ]
    }
   ],
   "source": [
    "# Retrieve the state of a fine-tune\n",
    "state = client.fine_tuning.jobs.retrieve(tuningJob.id)\n",
    "print(state.status, state.trained_tokens, state.fine_tuned_model)"
   ]
  },
  {
   "cell_type": "markdown",
   "id": "c00e8aaa-dbae-4e07-b2a2-80f2ccd2eadb",
   "metadata": {},
   "source": [
    "### Create Assistant with Fine-tuned Model"
   ]
  },
  {
   "cell_type": "code",
   "execution_count": 22,
   "id": "28883fb7-00d4-4fb3-987c-79959c46202e",
   "metadata": {},
   "outputs": [
    {
     "name": "stdout",
     "output_type": "stream",
     "text": [
      "Tuned BE Assistant is created: asst_Qg8AWyt8qmBDr0su2cgJwjmS\n",
      "Tuned BE Assistant ft:gpt-4o-2024-08-06:personal:tibco-be:A3t3UIIn\n"
     ]
    }
   ],
   "source": [
    "assistant = createAssistant(code_instruction, None, state.fine_tuned_model, \"Tuned BE Assistant\")\n",
    "print(assistant.name, assistant.model)"
   ]
  },
  {
   "cell_type": "markdown",
   "id": "c0f6d577-d5a2-4f82-8c98-fd49155f4468",
   "metadata": {},
   "source": [
    "## Create Assistant with Earlier Model"
   ]
  },
  {
   "cell_type": "code",
   "execution_count": null,
   "id": "ac2fbb36-b16e-471a-9f13-8fe704169cfe",
   "metadata": {},
   "outputs": [],
   "source": [
    "assistant = createAssistant(code_instruction, vector_store.id, \"gpt-3.5-turbo-0125\", \"BE Assistant 3.5\")\n",
    "print(assistant.name, assistant.model)"
   ]
  },
  {
   "cell_type": "code",
   "execution_count": null,
   "id": "af7a290e-bcd1-4afb-91ab-c9d2b4af929e",
   "metadata": {},
   "outputs": [],
   "source": []
  }
 ],
 "metadata": {
  "kernelspec": {
   "display_name": "Python 3 (ipykernel)",
   "language": "python",
   "name": "python3"
  },
  "language_info": {
   "codemirror_mode": {
    "name": "ipython",
    "version": 3
   },
   "file_extension": ".py",
   "mimetype": "text/x-python",
   "name": "python",
   "nbconvert_exporter": "python",
   "pygments_lexer": "ipython3",
   "version": "3.12.4"
  }
 },
 "nbformat": 4,
 "nbformat_minor": 5
}
